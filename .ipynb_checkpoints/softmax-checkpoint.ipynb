{
 "cells": [
  {
   "cell_type": "code",
   "execution_count": 1,
   "id": "161a3aa0",
   "metadata": {},
   "outputs": [
    {
     "ename": "ModuleNotFoundError",
     "evalue": "No module named 'google'",
     "output_type": "error",
     "traceback": [
      "\u001b[1;31m---------------------------------------------------------------------------\u001b[0m",
      "\u001b[1;31mModuleNotFoundError\u001b[0m                       Traceback (most recent call last)",
      "\u001b[1;32m~\\AppData\\Local\\Temp\\ipykernel_50212\\1292149662.py\u001b[0m in \u001b[0;36m<module>\u001b[1;34m\u001b[0m\n\u001b[0;32m      1\u001b[0m \u001b[1;31m# This mounts your Google Drive to the Colab VM.\u001b[0m\u001b[1;33m\u001b[0m\u001b[1;33m\u001b[0m\u001b[0m\n\u001b[1;32m----> 2\u001b[1;33m \u001b[1;32mfrom\u001b[0m \u001b[0mgoogle\u001b[0m\u001b[1;33m.\u001b[0m\u001b[0mcolab\u001b[0m \u001b[1;32mimport\u001b[0m \u001b[0mdrive\u001b[0m\u001b[1;33m\u001b[0m\u001b[1;33m\u001b[0m\u001b[0m\n\u001b[0m\u001b[0;32m      3\u001b[0m \u001b[0mdrive\u001b[0m\u001b[1;33m.\u001b[0m\u001b[0mmount\u001b[0m\u001b[1;33m(\u001b[0m\u001b[1;34m'/content/drive'\u001b[0m\u001b[1;33m)\u001b[0m\u001b[1;33m\u001b[0m\u001b[1;33m\u001b[0m\u001b[0m\n\u001b[0;32m      4\u001b[0m \u001b[1;33m\u001b[0m\u001b[0m\n\u001b[0;32m      5\u001b[0m \u001b[1;31m# TODO: Enter the foldername in your Drive where you have saved the unzipped\u001b[0m\u001b[1;33m\u001b[0m\u001b[1;33m\u001b[0m\u001b[0m\n",
      "\u001b[1;31mModuleNotFoundError\u001b[0m: No module named 'google'"
     ]
    }
   ],
   "source": [
    "# This mounts your Google Drive to the Colab VM.\n",
    "from google.colab import drive\n",
    "drive.mount('/content/drive')\n",
    "\n",
    "# TODO: Enter the foldername in your Drive where you have saved the unzipped\n",
    "# assignment folder, e.g. 'cs231n/assignments/assignment1/'\n",
    "FOLDERNAME = None\n",
    "assert FOLDERNAME is not None, \"[!] Enter the foldername.\"\n",
    "\n",
    "# Now that we've mounted your Drive, this ensures that\n",
    "# the Python interpreter of the Colab VM can load\n",
    "# python files from within it.\n",
    "import sys\n",
    "sys.path.append('/content/drive/My Drive/{}'.format(FOLDERNAME))\n",
    "\n",
    "# This downloads the CIFAR-10 dataset to your Drive\n",
    "# if it doesn't already exist.\n",
    "%cd /content/drive/My\\ Drive/$FOLDERNAME/cs231n/datasets/\n",
    "!bash get_datasets.sh\n",
    "%cd /content/drive/My\\ Drive/$FOLDERNAME"
   ]
  },
  {
   "cell_type": "markdown",
   "id": "26fdca1c",
   "metadata": {
    "tags": [
     "pdf-title"
    ]
   },
   "source": [
    "# Softmax exercise\n",
    "\n",
    "*Complete and hand in this completed worksheet (including its outputs and any supporting code outside of the worksheet) with your assignment submission. For more details see the [assignments page](http://vision.stanford.edu/teaching/cs231n/assignments.html) on the course website.*\n",
    "\n",
    "This exercise is analogous to the SVM exercise. You will:\n",
    "\n",
    "- implement a fully-vectorized **loss function** for the Softmax classifier\n",
    "- implement the fully-vectorized expression for its **analytic gradient**\n",
    "- **check your implementation** with numerical gradient\n",
    "- use a validation set to **tune the learning rate and regularization** strength\n",
    "- **optimize** the loss function with **SGD**\n",
    "- **visualize** the final learned weights\n"
   ]
  },
  {
   "cell_type": "code",
   "execution_count": 2,
   "id": "1f12280f",
   "metadata": {
    "tags": [
     "pdf-ignore"
    ]
   },
   "outputs": [],
   "source": [
    "import random\n",
    "import numpy as np\n",
    "from cs231n.data_utils import load_CIFAR10\n",
    "import matplotlib.pyplot as plt\n",
    "\n",
    "%matplotlib inline\n",
    "plt.rcParams['figure.figsize'] = (10.0, 8.0) # set default size of plots\n",
    "plt.rcParams['image.interpolation'] = 'nearest'\n",
    "plt.rcParams['image.cmap'] = 'gray'\n",
    "\n",
    "# for auto-reloading extenrnal modules\n",
    "# see http://stackoverflow.com/questions/1907993/autoreload-of-modules-in-ipython\n",
    "%load_ext autoreload\n",
    "%autoreload 2"
   ]
  },
  {
   "cell_type": "code",
   "execution_count": 3,
   "id": "ab106c82",
   "metadata": {
    "tags": [
     "pdf-ignore"
    ]
   },
   "outputs": [
    {
     "name": "stdout",
     "output_type": "stream",
     "text": [
      "Train data shape:  (49000, 3073)\n",
      "Train labels shape:  (49000,)\n",
      "Validation data shape:  (1000, 3073)\n",
      "Validation labels shape:  (1000,)\n",
      "Test data shape:  (1000, 3073)\n",
      "Test labels shape:  (1000,)\n",
      "dev data shape:  (500, 3073)\n",
      "dev labels shape:  (500,)\n"
     ]
    }
   ],
   "source": [
    "def get_CIFAR10_data(num_training=49000, num_validation=1000, num_test=1000, num_dev=500):\n",
    "    \"\"\"\n",
    "    Load the CIFAR-10 dataset from disk and perform preprocessing to prepare\n",
    "    it for the linear classifier. These are the same steps as we used for the\n",
    "    SVM, but condensed to a single function.  \n",
    "    \"\"\"\n",
    "    # Load the raw CIFAR-10 data\n",
    "    cifar10_dir = 'cs231n/datasets/cifar-10-batches-py'\n",
    "    \n",
    "    # Cleaning up variables to prevent loading data multiple times (which may cause memory issue)\n",
    "    try:\n",
    "       del X_train, y_train\n",
    "       del X_test, y_test\n",
    "       print('Clear previously loaded data.')\n",
    "    except:\n",
    "       pass\n",
    "\n",
    "    X_train, y_train, X_test, y_test = load_CIFAR10(cifar10_dir)\n",
    "    \n",
    "    # subsample the data\n",
    "    mask = list(range(num_training, num_training + num_validation))\n",
    "    X_val = X_train[mask]\n",
    "    y_val = y_train[mask]\n",
    "    mask = list(range(num_training))\n",
    "    X_train = X_train[mask]\n",
    "    y_train = y_train[mask]\n",
    "    mask = list(range(num_test))\n",
    "    X_test = X_test[mask]\n",
    "    y_test = y_test[mask]\n",
    "    mask = np.random.choice(num_training, num_dev, replace=False)\n",
    "    X_dev = X_train[mask]\n",
    "    y_dev = y_train[mask]\n",
    "    \n",
    "    # Preprocessing: reshape the image data into rows\n",
    "    X_train = np.reshape(X_train, (X_train.shape[0], -1))\n",
    "    X_val = np.reshape(X_val, (X_val.shape[0], -1))\n",
    "    X_test = np.reshape(X_test, (X_test.shape[0], -1))\n",
    "    X_dev = np.reshape(X_dev, (X_dev.shape[0], -1))\n",
    "    \n",
    "    # Normalize the data: subtract the mean image\n",
    "    mean_image = np.mean(X_train, axis = 0)\n",
    "    X_train -= mean_image\n",
    "    X_val -= mean_image\n",
    "    X_test -= mean_image\n",
    "    X_dev -= mean_image\n",
    "    \n",
    "    # add bias dimension and transform into columns\n",
    "    X_train = np.hstack([X_train, np.ones((X_train.shape[0], 1))])\n",
    "    X_val = np.hstack([X_val, np.ones((X_val.shape[0], 1))])\n",
    "    X_test = np.hstack([X_test, np.ones((X_test.shape[0], 1))])\n",
    "    X_dev = np.hstack([X_dev, np.ones((X_dev.shape[0], 1))])\n",
    "    \n",
    "    return X_train, y_train, X_val, y_val, X_test, y_test, X_dev, y_dev\n",
    "\n",
    "\n",
    "# Invoke the above function to get our data.\n",
    "X_train, y_train, X_val, y_val, X_test, y_test, X_dev, y_dev = get_CIFAR10_data()\n",
    "print('Train data shape: ', X_train.shape)\n",
    "print('Train labels shape: ', y_train.shape)\n",
    "print('Validation data shape: ', X_val.shape)\n",
    "print('Validation labels shape: ', y_val.shape)\n",
    "print('Test data shape: ', X_test.shape)\n",
    "print('Test labels shape: ', y_test.shape)\n",
    "print('dev data shape: ', X_dev.shape)\n",
    "print('dev labels shape: ', y_dev.shape)"
   ]
  },
  {
   "cell_type": "markdown",
   "id": "4721c3cb",
   "metadata": {},
   "source": [
    "## Softmax Classifier\n",
    "\n",
    "Your code for this section will all be written inside `cs231n/classifiers/softmax.py`.\n"
   ]
  },
  {
   "cell_type": "code",
   "execution_count": 6,
   "id": "d42765cd",
   "metadata": {},
   "outputs": [
    {
     "name": "stdout",
     "output_type": "stream",
     "text": [
      "loss: 2.322833\n",
      "sanity check: 2.302585\n"
     ]
    }
   ],
   "source": [
    "# First implement the naive softmax loss function with nested loops.\n",
    "# Open the file cs231n/classifiers/softmax.py and implement the\n",
    "# softmax_loss_naive function.\n",
    "\n",
    "from cs231n.classifiers.softmax import softmax_loss_naive\n",
    "import time\n",
    "\n",
    "# Generate a random softmax weight matrix and use it to compute the loss.\n",
    "W = np.random.randn(3073, 10) * 0.0001\n",
    "loss, grad = softmax_loss_naive(W, X_dev, y_dev, 0.0)\n",
    "\n",
    "# As a rough sanity check, our loss should be something close to -log(0.1).\n",
    "print('loss: %f' % loss)\n",
    "print('sanity check: %f' % (-np.log(0.1)))"
   ]
  },
  {
   "cell_type": "markdown",
   "id": "6f88764e",
   "metadata": {
    "tags": [
     "pdf-inline"
    ]
   },
   "source": [
    "**Inline Question 1**\n",
    "\n",
    "Why do we expect our loss to be close to -log(0.1)? Explain briefly.**\n",
    "\n",
    "$\\color{blue}{\\textit Your Answer:}$ *Fill this in* \n",
    "\n"
   ]
  },
  {
   "cell_type": "code",
   "execution_count": 7,
   "id": "4c2626ef",
   "metadata": {},
   "outputs": [
    {
     "name": "stdout",
     "output_type": "stream",
     "text": [
      "numerical: 3.292500 analytic: 3.292500, relative error: 1.670378e-08\n",
      "numerical: 1.336041 analytic: 1.336041, relative error: 3.106650e-08\n",
      "numerical: 1.671648 analytic: 1.671648, relative error: 8.834643e-10\n",
      "numerical: -2.054014 analytic: -2.054014, relative error: 4.506260e-08\n",
      "numerical: 1.082679 analytic: 1.082679, relative error: 5.261048e-08\n",
      "numerical: 1.686170 analytic: 1.686170, relative error: 1.043347e-10\n",
      "numerical: 0.114194 analytic: 0.114194, relative error: 1.757135e-07\n",
      "numerical: 0.117740 analytic: 0.117740, relative error: 2.611914e-07\n",
      "numerical: 2.078556 analytic: 2.078556, relative error: 1.008565e-08\n",
      "numerical: -0.574058 analytic: -0.574058, relative error: 1.540916e-07\n",
      "numerical: -2.464629 analytic: -2.464629, relative error: 6.676301e-09\n",
      "numerical: -0.650050 analytic: -0.650050, relative error: 1.032756e-07\n",
      "numerical: 0.630697 analytic: 0.630697, relative error: 2.697877e-08\n",
      "numerical: -3.211711 analytic: -3.211711, relative error: 6.161730e-09\n",
      "numerical: 1.573389 analytic: 1.573389, relative error: 2.503623e-08\n",
      "numerical: 5.137467 analytic: 5.137467, relative error: 3.881168e-09\n",
      "numerical: 1.188327 analytic: 1.188327, relative error: 1.537479e-08\n",
      "numerical: -1.272078 analytic: -1.272078, relative error: 1.284899e-08\n",
      "numerical: -2.416626 analytic: -2.416626, relative error: 1.547633e-08\n",
      "numerical: 0.877243 analytic: 0.877243, relative error: 3.857356e-08\n"
     ]
    }
   ],
   "source": [
    "# Complete the implementation of softmax_loss_naive and implement a (naive)\n",
    "# version of the gradient that uses nested loops.\n",
    "loss, grad = softmax_loss_naive(W, X_dev, y_dev, 0.0)\n",
    "\n",
    "# As we did for the SVM, use numeric gradient checking as a debugging tool.\n",
    "# The numeric gradient should be close to the analytic gradient.\n",
    "from cs231n.gradient_check import grad_check_sparse\n",
    "f = lambda w: softmax_loss_naive(w, X_dev, y_dev, 0.0)[0]\n",
    "grad_numerical = grad_check_sparse(f, W, grad, 10)\n",
    "\n",
    "# similar to SVM case, do another gradient check with regularization\n",
    "loss, grad = softmax_loss_naive(W, X_dev, y_dev, 5e1)\n",
    "f = lambda w: softmax_loss_naive(w, X_dev, y_dev, 5e1)[0]\n",
    "grad_numerical = grad_check_sparse(f, W, grad, 10)"
   ]
  },
  {
   "cell_type": "code",
   "execution_count": 9,
   "id": "434e757f",
   "metadata": {},
   "outputs": [
    {
     "name": "stdout",
     "output_type": "stream",
     "text": [
      "naive loss: 2.322833e+00 computed in 0.290277s\n",
      "vectorized loss: 2.322833e+00 computed in 0.007740s\n",
      "Loss difference: 0.000000\n",
      "Gradient difference: 0.000000\n"
     ]
    }
   ],
   "source": [
    "# Now that we have a naive implementation of the softmax loss function and its gradient,\n",
    "# implement a vectorized version in softmax_loss_vectorized.\n",
    "# The two versions should compute the same results, but the vectorized version should be\n",
    "# much faster.\n",
    "tic = time.time()\n",
    "loss_naive, grad_naive = softmax_loss_naive(W, X_dev, y_dev, 0.000005)\n",
    "toc = time.time()\n",
    "print('naive loss: %e computed in %fs' % (loss_naive, toc - tic))\n",
    "\n",
    "from cs231n.classifiers.softmax import softmax_loss_vectorized\n",
    "tic = time.time()\n",
    "loss_vectorized, grad_vectorized = softmax_loss_vectorized(W, X_dev, y_dev, 0.000005)\n",
    "toc = time.time()\n",
    "print('vectorized loss: %e computed in %fs' % (loss_vectorized, toc - tic))\n",
    "\n",
    "# As we did for the SVM, we use the Frobenius norm to compare the two versions\n",
    "# of the gradient.\n",
    "grad_difference = np.linalg.norm(grad_naive - grad_vectorized, ord='fro')\n",
    "print('Loss difference: %f' % np.abs(loss_naive - loss_vectorized))\n",
    "print('Gradient difference: %f' % grad_difference)"
   ]
  },
  {
   "cell_type": "code",
   "execution_count": 15,
   "id": "2e5e374d",
   "metadata": {
    "tags": [
     "code"
    ],
    "test": "tuning"
   },
   "outputs": [
    {
     "name": "stderr",
     "output_type": "stream",
     "text": [
      "\r",
      "  0%|                                                                                            | 0/8 [00:00<?, ?it/s]"
     ]
    },
    {
     "name": "stdout",
     "output_type": "stream",
     "text": [
      "lr 2.000000e-08 reg 2.500000e+04 train accuracy: 0.180816 val accuracy: 0.175000\n",
      "lr 2.000000e-08 reg 2.857143e+04 train accuracy: 0.218898 val accuracy: 0.206000\n",
      "lr 2.000000e-08 reg 3.214286e+04 train accuracy: 0.263122 val accuracy: 0.263000\n",
      "lr 2.000000e-08 reg 3.571429e+04 train accuracy: 0.296163 val accuracy: 0.312000\n",
      "lr 2.000000e-08 reg 3.928571e+04 train accuracy: 0.312898 val accuracy: 0.332000\n",
      "lr 2.000000e-08 reg 4.285714e+04 train accuracy: 0.314184 val accuracy: 0.324000\n",
      "lr 2.000000e-08 reg 4.642857e+04 train accuracy: 0.309082 val accuracy: 0.332000\n"
     ]
    },
    {
     "name": "stderr",
     "output_type": "stream",
     "text": [
      "\r",
      " 12%|██████████▌                                                                         | 1/8 [00:37<04:21, 37.33s/it]"
     ]
    },
    {
     "name": "stdout",
     "output_type": "stream",
     "text": [
      "lr 2.000000e-08 reg 5.000000e+04 train accuracy: 0.308694 val accuracy: 0.332000\n",
      "lr 8.857143e-08 reg 2.500000e+04 train accuracy: 0.333122 val accuracy: 0.348000\n",
      "lr 8.857143e-08 reg 2.857143e+04 train accuracy: 0.324612 val accuracy: 0.336000\n",
      "lr 8.857143e-08 reg 3.214286e+04 train accuracy: 0.325653 val accuracy: 0.348000\n",
      "lr 8.857143e-08 reg 3.571429e+04 train accuracy: 0.313061 val accuracy: 0.331000\n",
      "lr 8.857143e-08 reg 3.928571e+04 train accuracy: 0.317184 val accuracy: 0.330000\n",
      "lr 8.857143e-08 reg 4.285714e+04 train accuracy: 0.314571 val accuracy: 0.321000\n",
      "lr 8.857143e-08 reg 4.642857e+04 train accuracy: 0.315347 val accuracy: 0.328000\n"
     ]
    },
    {
     "name": "stderr",
     "output_type": "stream",
     "text": [
      "\r",
      " 25%|█████████████████████                                                               | 2/8 [00:54<02:34, 25.74s/it]"
     ]
    },
    {
     "name": "stdout",
     "output_type": "stream",
     "text": [
      "lr 8.857143e-08 reg 5.000000e+04 train accuracy: 0.307082 val accuracy: 0.330000\n",
      "lr 1.571429e-07 reg 2.500000e+04 train accuracy: 0.337694 val accuracy: 0.353000\n",
      "lr 1.571429e-07 reg 2.857143e+04 train accuracy: 0.323102 val accuracy: 0.332000\n",
      "lr 1.571429e-07 reg 3.214286e+04 train accuracy: 0.328653 val accuracy: 0.337000\n",
      "lr 1.571429e-07 reg 3.571429e+04 train accuracy: 0.316633 val accuracy: 0.331000\n",
      "lr 1.571429e-07 reg 3.928571e+04 train accuracy: 0.316551 val accuracy: 0.331000\n",
      "lr 1.571429e-07 reg 4.285714e+04 train accuracy: 0.314306 val accuracy: 0.333000\n",
      "lr 1.571429e-07 reg 4.642857e+04 train accuracy: 0.321306 val accuracy: 0.330000\n"
     ]
    },
    {
     "name": "stderr",
     "output_type": "stream",
     "text": [
      "\r",
      " 38%|███████████████████████████████▌                                                    | 3/8 [01:08<01:41, 20.36s/it]"
     ]
    },
    {
     "name": "stdout",
     "output_type": "stream",
     "text": [
      "lr 1.571429e-07 reg 5.000000e+04 train accuracy: 0.306245 val accuracy: 0.311000\n",
      "lr 2.257143e-07 reg 2.500000e+04 train accuracy: 0.328449 val accuracy: 0.339000\n",
      "lr 2.257143e-07 reg 2.857143e+04 train accuracy: 0.329735 val accuracy: 0.340000\n",
      "lr 2.257143e-07 reg 3.214286e+04 train accuracy: 0.323204 val accuracy: 0.338000\n",
      "lr 2.257143e-07 reg 3.571429e+04 train accuracy: 0.316633 val accuracy: 0.341000\n",
      "lr 2.257143e-07 reg 3.928571e+04 train accuracy: 0.310510 val accuracy: 0.322000\n",
      "lr 2.257143e-07 reg 4.285714e+04 train accuracy: 0.313122 val accuracy: 0.332000\n",
      "lr 2.257143e-07 reg 4.642857e+04 train accuracy: 0.299898 val accuracy: 0.316000\n"
     ]
    },
    {
     "name": "stderr",
     "output_type": "stream",
     "text": [
      "\r",
      " 50%|██████████████████████████████████████████                                          | 4/8 [01:22<01:10, 17.75s/it]"
     ]
    },
    {
     "name": "stdout",
     "output_type": "stream",
     "text": [
      "lr 2.257143e-07 reg 5.000000e+04 train accuracy: 0.310959 val accuracy: 0.318000\n",
      "lr 2.942857e-07 reg 2.500000e+04 train accuracy: 0.327429 val accuracy: 0.333000\n",
      "lr 2.942857e-07 reg 2.857143e+04 train accuracy: 0.323939 val accuracy: 0.341000\n",
      "lr 2.942857e-07 reg 3.214286e+04 train accuracy: 0.319918 val accuracy: 0.331000\n",
      "lr 2.942857e-07 reg 3.571429e+04 train accuracy: 0.305837 val accuracy: 0.311000\n",
      "lr 2.942857e-07 reg 3.928571e+04 train accuracy: 0.308959 val accuracy: 0.336000\n",
      "lr 2.942857e-07 reg 4.285714e+04 train accuracy: 0.297551 val accuracy: 0.327000\n",
      "lr 2.942857e-07 reg 4.642857e+04 train accuracy: 0.309347 val accuracy: 0.325000\n"
     ]
    },
    {
     "name": "stderr",
     "output_type": "stream",
     "text": [
      "\r",
      " 62%|████████████████████████████████████████████████████▌                               | 5/8 [01:36<00:49, 16.36s/it]"
     ]
    },
    {
     "name": "stdout",
     "output_type": "stream",
     "text": [
      "lr 2.942857e-07 reg 5.000000e+04 train accuracy: 0.307245 val accuracy: 0.326000\n",
      "lr 3.628571e-07 reg 2.500000e+04 train accuracy: 0.325878 val accuracy: 0.340000\n",
      "lr 3.628571e-07 reg 2.857143e+04 train accuracy: 0.321408 val accuracy: 0.335000\n",
      "lr 3.628571e-07 reg 3.214286e+04 train accuracy: 0.314429 val accuracy: 0.323000\n",
      "lr 3.628571e-07 reg 3.571429e+04 train accuracy: 0.307633 val accuracy: 0.319000\n",
      "lr 3.628571e-07 reg 3.928571e+04 train accuracy: 0.307959 val accuracy: 0.324000\n",
      "lr 3.628571e-07 reg 4.285714e+04 train accuracy: 0.308776 val accuracy: 0.340000\n",
      "lr 3.628571e-07 reg 4.642857e+04 train accuracy: 0.314367 val accuracy: 0.328000\n"
     ]
    },
    {
     "name": "stderr",
     "output_type": "stream",
     "text": [
      "\r",
      " 75%|███████████████████████████████████████████████████████████████                     | 6/8 [01:50<00:31, 15.58s/it]"
     ]
    },
    {
     "name": "stdout",
     "output_type": "stream",
     "text": [
      "lr 3.628571e-07 reg 5.000000e+04 train accuracy: 0.309776 val accuracy: 0.325000\n",
      "lr 4.314286e-07 reg 2.500000e+04 train accuracy: 0.332041 val accuracy: 0.339000\n",
      "lr 4.314286e-07 reg 2.857143e+04 train accuracy: 0.320429 val accuracy: 0.335000\n",
      "lr 4.314286e-07 reg 3.214286e+04 train accuracy: 0.324592 val accuracy: 0.328000\n",
      "lr 4.314286e-07 reg 3.571429e+04 train accuracy: 0.312204 val accuracy: 0.331000\n",
      "lr 4.314286e-07 reg 3.928571e+04 train accuracy: 0.307980 val accuracy: 0.323000\n",
      "lr 4.314286e-07 reg 4.285714e+04 train accuracy: 0.317510 val accuracy: 0.325000\n",
      "lr 4.314286e-07 reg 4.642857e+04 train accuracy: 0.300633 val accuracy: 0.323000\n"
     ]
    },
    {
     "name": "stderr",
     "output_type": "stream",
     "text": [
      "\r",
      " 88%|█████████████████████████████████████████████████████████████████████████▌          | 7/8 [02:16<00:18, 18.80s/it]"
     ]
    },
    {
     "name": "stdout",
     "output_type": "stream",
     "text": [
      "lr 4.314286e-07 reg 5.000000e+04 train accuracy: 0.298633 val accuracy: 0.298000\n",
      "lr 5.000000e-07 reg 2.500000e+04 train accuracy: 0.331612 val accuracy: 0.346000\n",
      "lr 5.000000e-07 reg 2.857143e+04 train accuracy: 0.318082 val accuracy: 0.338000\n",
      "lr 5.000000e-07 reg 3.214286e+04 train accuracy: 0.317878 val accuracy: 0.335000\n",
      "lr 5.000000e-07 reg 3.571429e+04 train accuracy: 0.315980 val accuracy: 0.325000\n",
      "lr 5.000000e-07 reg 3.928571e+04 train accuracy: 0.301388 val accuracy: 0.316000\n",
      "lr 5.000000e-07 reg 4.285714e+04 train accuracy: 0.298816 val accuracy: 0.311000\n",
      "lr 5.000000e-07 reg 4.642857e+04 train accuracy: 0.303694 val accuracy: 0.319000\n"
     ]
    },
    {
     "name": "stderr",
     "output_type": "stream",
     "text": [
      "100%|████████████████████████████████████████████████████████████████████████████████████| 8/8 [02:55<00:00, 21.94s/it]"
     ]
    },
    {
     "name": "stdout",
     "output_type": "stream",
     "text": [
      "lr 5.000000e-07 reg 5.000000e+04 train accuracy: 0.310612 val accuracy: 0.310000\n",
      "best validation accuracy achieved during cross-validation: 0.353000\n"
     ]
    },
    {
     "name": "stderr",
     "output_type": "stream",
     "text": [
      "\n"
     ]
    }
   ],
   "source": [
    "# Use the validation set to tune hyperparameters (regularization strength and\n",
    "# learning rate). You should experiment with different ranges for the learning\n",
    "# rates and regularization strengths; if you are careful you should be able to\n",
    "# get a classification accuracy of over 0.35 on the validation set.\n",
    "from tqdm import tqdm\n",
    "from cs231n.classifiers import Softmax\n",
    "results = {}\n",
    "best_val = -1\n",
    "best_softmax = None\n",
    "\n",
    "################################################################################\n",
    "# TODO:                                                                        #\n",
    "# Use the validation set to set the learning rate and regularization strength. #\n",
    "# This should be identical to the validation that you did for the SVM; save    #\n",
    "# the best trained softmax classifer in best_softmax.                          #\n",
    "################################################################################\n",
    "# Provided as a reference. You may or may not want to change these hyperparameters\n",
    "learning_rates = [2e-8, 5e-7]\n",
    "regularization_strengths = [2.5e4, 5e4]\n",
    "lr_range = np.linspace(learning_rates[0], learning_rates[1], 8)\n",
    "reg_range = np.linspace(regularization_strengths[0], regularization_strengths[1], 8)\n",
    "# 定义损失函数训练的模型\n",
    "softmax = Softmax()\n",
    "tic = time.time()\n",
    "\n",
    "for lr in tqdm(lr_range):\n",
    "    for reg in reg_range:\n",
    "        loss_hist = softmax.train(X_train, y_train, learning_rate=lr, reg=reg, num_iters=500, verbose=False)\n",
    "        y_train_pred = softmax.predict(X_train)\n",
    "        y_val_pred = softmax.predict(X_val)\n",
    "        acc_train = np.mean(y_train == y_train_pred)\n",
    "        acc_val = np.mean(y_val == y_val_pred)\n",
    "        # load result into results\n",
    "        results[(lr, reg)] = (acc_train, acc_val)\n",
    "        if acc_val > best_val:\n",
    "            best_val = acc_val\n",
    "            best_softmax = softmax\n",
    "        # Print out results.\n",
    "        print('lr %e reg %e train accuracy: %f val accuracy: %f' % (\n",
    "            lr, reg, acc_train, acc_val))\n",
    "\n",
    "print('best validation accuracy achieved during cross-validation: %f' % best_val)"
   ]
  },
  {
   "cell_type": "code",
   "execution_count": 16,
   "id": "deb37cc6",
   "metadata": {
    "test": "test"
   },
   "outputs": [
    {
     "name": "stdout",
     "output_type": "stream",
     "text": [
      "softmax on raw pixels final test set accuracy: 0.329000\n"
     ]
    }
   ],
   "source": [
    "# evaluate on test set\n",
    "# Evaluate the best softmax on test set\n",
    "y_test_pred = best_softmax.predict(X_test)\n",
    "test_accuracy = np.mean(y_test == y_test_pred)\n",
    "print('softmax on raw pixels final test set accuracy: %f' % (test_accuracy, ))"
   ]
  },
  {
   "cell_type": "markdown",
   "id": "df501314",
   "metadata": {
    "tags": [
     "pdf-inline"
    ]
   },
   "source": [
    "**Inline Question 2** - *True or False*\n",
    "\n",
    "Suppose the overall training loss is defined as the sum of the per-datapoint loss over all training examples. It is possible to add a new datapoint to a training set that would leave the SVM loss unchanged, but this is not the case with the Softmax classifier loss.\n",
    "\n",
    "$\\color{blue}{\\textit Your Answer:}$\n",
    "\n",
    "\n",
    "$\\color{blue}{\\textit Your Explanation:}$\n",
    "\n"
   ]
  },
  {
   "cell_type": "code",
   "execution_count": 17,
   "id": "ade33adc",
   "metadata": {},
   "outputs": [
    {
     "data": {
      "image/png": "[encoded data removed]",
      "text/plain": [
       "<Figure size 1000x800 with 10 Axes>"
      ]
     },
     "metadata": {},
     "output_type": "display_data"
    }
   ],
   "source": [
    "# Visualize the learned weights for each class\n",
    "w = best_softmax.W[:-1,:] # strip out the bias\n",
    "w = w.reshape(32, 32, 3, 10)\n",
    "\n",
    "w_min, w_max = np.min(w), np.max(w)\n",
    "\n",
    "classes = ['plane', 'car', 'bird', 'cat', 'deer', 'dog', 'frog', 'horse', 'ship', 'truck']\n",
    "for i in range(10):\n",
    "    plt.subplot(2, 5, i + 1)\n",
    "    \n",
    "    # Rescale the weights to be between 0 and 255\n",
    "    wimg = 255.0 * (w[:, :, :, i].squeeze() - w_min) / (w_max - w_min)\n",
    "    plt.imshow(wimg.astype('uint8'))\n",
    "    plt.axis('off')\n",
    "    plt.title(classes[i])"
   ]
  },
  {
   "cell_type": "code",
   "execution_count": null,
   "id": "4d5d17f8",
   "metadata": {},
   "outputs": [],
   "source": []
  },
  {
   "cell_type": "code",
   "execution_count": null,
   "id": "e112480a",
   "metadata": {},
   "outputs": [],
   "source": []
  }
 ],
 "metadata": {
  "kernelspec": {
   "display_name": "Python 3 (ipykernel)",
   "language": "python",
   "name": "python3"
  },
  "language_info": {
   "codemirror_mode": {
    "name": "ipython",
    "version": 3
   },
   "file_extension": ".py",
   "mimetype": "text/x-python",
   "name": "python",
   "nbconvert_exporter": "python",
   "pygments_lexer": "ipython3",
   "version": "3.9.13"
  }
 },
 "nbformat": 4,
 "nbformat_minor": 5
}
